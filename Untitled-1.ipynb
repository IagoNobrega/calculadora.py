{
 "cells": [
  {
   "cell_type": "code",
   "execution_count": 21,
   "metadata": {},
   "outputs": [
    {
     "ename": "",
     "evalue": "",
     "output_type": "error",
     "traceback": [
      "\u001b[1;31mThe Kernel crashed while executing code in the the current cell or a previous cell. Please review the code in the cell(s) to identify a possible cause of the failure. Click <a href='https://aka.ms/vscodeJupyterKernelCrash'>here</a> for more info. View Jupyter <a href='command:jupyter.viewOutput'>log</a> for further details."
     ]
    }
   ],
   "source": [
    "import cv2\n",
    "import mediapipe as mp\n",
    "\n",
    "webcam = cv2.VideoCapture(0)\n",
    "\n",
    "soluçao_reconhecimento_rosto = mp.solutions.face_detection \n",
    "reconhecedor_rostos = soluçao_reconhecimento_rosto.FaceDetection() \n",
    "desenho = mp.solutions.drawing_utils \n",
    "\n",
    "while True:\n",
    "    verificador, freme = webcam.read()\n",
    "    if not verificador:\n",
    "        break\n",
    "    \n",
    "\n",
    "    lista_rostos = reconhecedor_rostos.process(freme)\n",
    "\n",
    "    if lista_rostos.detections:\n",
    "        for rosto in lista_rostos.detections:\n",
    "            desenho.draw_detection(freme,rosto)\n",
    "\n",
    "    cv2.imshow('reconhecimento facial ', freme)\n",
    "\n",
    "\n",
    "    if cv2.waitKey(5) == 27:\n",
    "        break\n",
    "\n",
    "\n",
    "\n",
    "webcam.release()\n",
    "\n",
    "\n"
   ]
  }
 ],
 "metadata": {
  "kernelspec": {
   "display_name": "Python 3",
   "language": "python",
   "name": "python3"
  },
  "language_info": {
   "codemirror_mode": {
    "name": "ipython",
    "version": 3
   },
   "file_extension": ".py",
   "mimetype": "text/x-python",
   "name": "python",
   "nbconvert_exporter": "python",
   "pygments_lexer": "ipython3",
   "version": "3.11.4"
  }
 },
 "nbformat": 4,
 "nbformat_minor": 2
}
